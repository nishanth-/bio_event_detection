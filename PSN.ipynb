{
 "cells": [
  {
   "cell_type": "code",
   "execution_count": 1,
   "metadata": {},
   "outputs": [
    {
     "name": "stderr",
     "output_type": "stream",
     "text": [
      "/Users/nishu/anaconda3/lib/python3.6/site-packages/h5py/__init__.py:36: FutureWarning: Conversion of the second argument of issubdtype from `float` to `np.floating` is deprecated. In future, it will be treated as `np.float64 == np.dtype(float).type`.\n",
      "  from ._conv import register_converters as _register_converters\n",
      "Using TensorFlow backend.\n"
     ]
    }
   ],
   "source": [
    "import pickle\n",
    "import numpy as np\n",
    "import random\n",
    "import keras\n",
    "from keras.datasets import mnist\n",
    "from keras.models import Sequential\n",
    "from keras.layers import Dense, Dropout, Flatten, LSTM, GRU, Embedding, Input, BatchNormalization,InputLayer\n",
    "from keras.layers import Conv2D, MaxPooling2D\n",
    "from keras import backend as K\n",
    "from gensim.models import Word2Vec\n",
    "from sklearn.preprocessing import OneHotEncoder, LabelEncoder\n",
    "from numpy import array\n",
    "from keras.wrappers.scikit_learn import KerasClassifier\n",
    "from sklearn.model_selection import KFold\n",
    "from sklearn.model_selection import cross_val_score\n",
    "from sklearn.model_selection import train_test_split"
   ]
  },
  {
   "cell_type": "code",
   "execution_count": 2,
   "metadata": {},
   "outputs": [],
   "source": [
    "def readFromFile(aFile):\n",
    "    with open(aFile, 'rb') as f:\n",
    "        loaded_obj = pickle.load(f, encoding='latin1')\n",
    "    return loaded_obj"
   ]
  },
  {
   "cell_type": "code",
   "execution_count": 3,
   "metadata": {},
   "outputs": [],
   "source": [
    "def writeToFile(aData, aFile):\n",
    "    with open(aFile, 'wb') as f:\n",
    "        pickle.dump(aData, f, protocol=2)"
   ]
  },
  {
   "cell_type": "code",
   "execution_count": 4,
   "metadata": {},
   "outputs": [
    {
     "data": {
      "text/plain": [
       "8666"
      ]
     },
     "execution_count": 4,
     "metadata": {},
     "output_type": "execute_result"
    }
   ],
   "source": [
    "tr_list= readFromFile('processed_data/GE11_tr.pickle')\n",
    "len(tr_list)"
   ]
  },
  {
   "cell_type": "code",
   "execution_count": 5,
   "metadata": {},
   "outputs": [
    {
     "data": {
      "text/plain": [
       "2886"
      ]
     },
     "execution_count": 5,
     "metadata": {},
     "output_type": "execute_result"
    }
   ],
   "source": [
    "dev_list= readFromFile('processed_data/GE11_dev.pickle')\n",
    "len(dev_list)"
   ]
  },
  {
   "cell_type": "code",
   "execution_count": 6,
   "metadata": {},
   "outputs": [
    {
     "data": {
      "text/plain": [
       "3360"
      ]
     },
     "execution_count": 6,
     "metadata": {},
     "output_type": "execute_result"
    }
   ],
   "source": [
    "test_list= readFromFile('processed_data/GE11_test.pickle')\n",
    "len(test_list)"
   ]
  },
  {
   "cell_type": "code",
   "execution_count": 7,
   "metadata": {},
   "outputs": [
    {
     "name": "stdout",
     "output_type": "stream",
     "text": [
      " Down-regulation of interferon regulatory factor 4 gene expression in leukemic cells due to hypermethylation of CpG motifs in the promoter region\n"
     ]
    },
    {
     "data": {
      "text/plain": [
       "{'event': 'Negative_regulation',\n",
       " 'id': 'bt_0',\n",
       " 'lcpos': 'None',\n",
       " 'ldep': 'None',\n",
       " 'ldpos': 'None',\n",
       " 'ldtoken': 'None',\n",
       " 'llcpos': 'None',\n",
       " 'lldep': 'None',\n",
       " 'lldpos': 'None',\n",
       " 'ltoken': 'None',\n",
       " 'pos': 'NN',\n",
       " 'rcpos': 'IN',\n",
       " 'rdep': 'prep_due_to',\n",
       " 'rdpos': 'NN',\n",
       " 'rdtoken': 'hypermethylation',\n",
       " 'rrcpos': 'NN',\n",
       " 'rrdep': 'prep_in',\n",
       " 'rrdpos': 'NN',\n",
       " 'rtoken': 'of',\n",
       " 'sentLoc': 0.0,\n",
       " 'sentLocldep': -0.1,\n",
       " 'sentLocrdep': 0.6190476190476191,\n",
       " 'token': 'Down-regulation'}"
      ]
     },
     "metadata": {},
     "output_type": "display_data"
    },
    {
     "data": {
      "text/plain": [
       "{'event': 'None',\n",
       " 'id': 'bt_1',\n",
       " 'lcpos': 'NN',\n",
       " 'ldep': 'None',\n",
       " 'ldpos': 'None',\n",
       " 'ldtoken': 'None',\n",
       " 'llcpos': 'None',\n",
       " 'lldep': 'None',\n",
       " 'lldpos': 'None',\n",
       " 'ltoken': 'Down-regulation',\n",
       " 'pos': 'IN',\n",
       " 'rcpos': 'NN',\n",
       " 'rdep': 'None',\n",
       " 'rdpos': 'None',\n",
       " 'rdtoken': 'None',\n",
       " 'rrcpos': 'JJ',\n",
       " 'rrdep': 'None',\n",
       " 'rrdpos': 'None',\n",
       " 'rtoken': 'interferon',\n",
       " 'sentLoc': 0.047619047619047616,\n",
       " 'sentLocldep': -0.1,\n",
       " 'sentLocrdep': -0.1,\n",
       " 'token': 'of'}"
      ]
     },
     "metadata": {},
     "output_type": "display_data"
    },
    {
     "data": {
      "text/plain": [
       "{'event': 'None',\n",
       " 'id': 'bt_2',\n",
       " 'lcpos': 'IN',\n",
       " 'ldep': 'nn',\n",
       " 'ldpos': 'NN',\n",
       " 'ldtoken': 'factor',\n",
       " 'llcpos': 'NN',\n",
       " 'lldep': 'nn',\n",
       " 'lldpos': 'NN',\n",
       " 'ltoken': 'of',\n",
       " 'pos': 'NN',\n",
       " 'rcpos': 'JJ',\n",
       " 'rdep': 'None',\n",
       " 'rdpos': 'None',\n",
       " 'rdtoken': 'None',\n",
       " 'rrcpos': 'NN',\n",
       " 'rrdep': 'None',\n",
       " 'rrdpos': 'None',\n",
       " 'rtoken': 'regulatory',\n",
       " 'sentLoc': 0.09523809523809523,\n",
       " 'sentLocldep': 0.19047619047619047,\n",
       " 'sentLocrdep': -0.1,\n",
       " 'token': 'interferon'}"
      ]
     },
     "metadata": {},
     "output_type": "display_data"
    },
    {
     "data": {
      "text/plain": [
       "{'event': 'None',\n",
       " 'id': 'bt_3',\n",
       " 'lcpos': 'NN',\n",
       " 'ldep': 'amod',\n",
       " 'ldpos': 'NN',\n",
       " 'ldtoken': 'factor',\n",
       " 'llcpos': 'IN',\n",
       " 'lldep': 'nn',\n",
       " 'lldpos': 'NN',\n",
       " 'ltoken': 'interferon',\n",
       " 'pos': 'JJ',\n",
       " 'rcpos': 'NN',\n",
       " 'rdep': 'None',\n",
       " 'rdpos': 'None',\n",
       " 'rdtoken': 'None',\n",
       " 'rrcpos': 'CD',\n",
       " 'rrdep': 'None',\n",
       " 'rrdpos': 'None',\n",
       " 'rtoken': 'factor',\n",
       " 'sentLoc': 0.14285714285714285,\n",
       " 'sentLocldep': 0.19047619047619047,\n",
       " 'sentLocrdep': -0.1,\n",
       " 'token': 'regulatory'}"
      ]
     },
     "metadata": {},
     "output_type": "display_data"
    },
    {
     "data": {
      "text/plain": [
       "{'event': 'None',\n",
       " 'id': 'bt_4',\n",
       " 'lcpos': 'JJ',\n",
       " 'ldep': 'nn',\n",
       " 'ldpos': 'NN',\n",
       " 'ldtoken': 'expression',\n",
       " 'llcpos': 'NN',\n",
       " 'lldep': 'prep_of',\n",
       " 'lldpos': 'NN',\n",
       " 'ltoken': 'regulatory',\n",
       " 'pos': 'NN',\n",
       " 'rcpos': 'CD',\n",
       " 'rdep': 'num',\n",
       " 'rdpos': 'CD',\n",
       " 'rdtoken': '4',\n",
       " 'rrcpos': 'NN',\n",
       " 'rrdep': 'None',\n",
       " 'rrdpos': 'None',\n",
       " 'rtoken': '4',\n",
       " 'sentLoc': 0.19047619047619047,\n",
       " 'sentLocldep': 0.3333333333333333,\n",
       " 'sentLocrdep': 0.23809523809523808,\n",
       " 'token': 'factor'}"
      ]
     },
     "metadata": {},
     "output_type": "display_data"
    },
    {
     "data": {
      "text/plain": [
       "{'event': 'None',\n",
       " 'id': 'bt_5',\n",
       " 'lcpos': 'NN',\n",
       " 'ldep': 'num',\n",
       " 'ldpos': 'NN',\n",
       " 'ldtoken': 'factor',\n",
       " 'llcpos': 'JJ',\n",
       " 'lldep': 'nn',\n",
       " 'lldpos': 'NN',\n",
       " 'ltoken': 'factor',\n",
       " 'pos': 'CD',\n",
       " 'rcpos': 'NN',\n",
       " 'rdep': 'None',\n",
       " 'rdpos': 'None',\n",
       " 'rdtoken': 'None',\n",
       " 'rrcpos': 'NN',\n",
       " 'rrdep': 'None',\n",
       " 'rrdpos': 'None',\n",
       " 'rtoken': 'gene',\n",
       " 'sentLoc': 0.23809523809523808,\n",
       " 'sentLocldep': 0.19047619047619047,\n",
       " 'sentLocrdep': -0.1,\n",
       " 'token': '4'}"
      ]
     },
     "metadata": {},
     "output_type": "display_data"
    },
    {
     "data": {
      "text/plain": [
       "{'event': 'None',\n",
       " 'id': 'bt_6',\n",
       " 'lcpos': 'CD',\n",
       " 'ldep': 'nn',\n",
       " 'ldpos': 'NN',\n",
       " 'ldtoken': 'expression',\n",
       " 'llcpos': 'NN',\n",
       " 'lldep': 'prep_of',\n",
       " 'lldpos': 'NN',\n",
       " 'ltoken': '4',\n",
       " 'pos': 'NN',\n",
       " 'rcpos': 'NN',\n",
       " 'rdep': 'None',\n",
       " 'rdpos': 'None',\n",
       " 'rdtoken': 'None',\n",
       " 'rrcpos': 'IN',\n",
       " 'rrdep': 'None',\n",
       " 'rrdpos': 'None',\n",
       " 'rtoken': 'expression',\n",
       " 'sentLoc': 0.2857142857142857,\n",
       " 'sentLocldep': 0.3333333333333333,\n",
       " 'sentLocrdep': -0.1,\n",
       " 'token': 'gene'}"
      ]
     },
     "metadata": {},
     "output_type": "display_data"
    },
    {
     "data": {
      "text/plain": [
       "{'event': 'Gene_expression',\n",
       " 'id': 'bt_7',\n",
       " 'lcpos': 'NN',\n",
       " 'ldep': 'prep_of',\n",
       " 'ldpos': 'NN',\n",
       " 'ldtoken': 'Down-regulation',\n",
       " 'llcpos': 'CD',\n",
       " 'lldep': 'None',\n",
       " 'lldpos': 'None',\n",
       " 'ltoken': 'gene',\n",
       " 'pos': 'NN',\n",
       " 'rcpos': 'IN',\n",
       " 'rdep': 'nn',\n",
       " 'rdpos': 'NN',\n",
       " 'rdtoken': 'gene',\n",
       " 'rrcpos': 'JJ',\n",
       " 'rrdep': 'None',\n",
       " 'rrdpos': 'None',\n",
       " 'rtoken': 'in',\n",
       " 'sentLoc': 0.3333333333333333,\n",
       " 'sentLocldep': 0.0,\n",
       " 'sentLocrdep': 0.2857142857142857,\n",
       " 'token': 'expression'}"
      ]
     },
     "metadata": {},
     "output_type": "display_data"
    },
    {
     "data": {
      "text/plain": [
       "{'event': 'None',\n",
       " 'id': 'bt_8',\n",
       " 'lcpos': 'NN',\n",
       " 'ldep': 'None',\n",
       " 'ldpos': 'None',\n",
       " 'ldtoken': 'None',\n",
       " 'llcpos': 'NN',\n",
       " 'lldep': 'None',\n",
       " 'lldpos': 'None',\n",
       " 'ltoken': 'expression',\n",
       " 'pos': 'IN',\n",
       " 'rcpos': 'JJ',\n",
       " 'rdep': 'None',\n",
       " 'rdpos': 'None',\n",
       " 'rdtoken': 'None',\n",
       " 'rrcpos': 'NNS',\n",
       " 'rrdep': 'None',\n",
       " 'rrdpos': 'None',\n",
       " 'rtoken': 'leukemic',\n",
       " 'sentLoc': 0.38095238095238093,\n",
       " 'sentLocldep': -0.1,\n",
       " 'sentLocrdep': -0.1,\n",
       " 'token': 'in'}"
      ]
     },
     "metadata": {},
     "output_type": "display_data"
    },
    {
     "data": {
      "text/plain": [
       "{'event': 'None',\n",
       " 'id': 'bt_9',\n",
       " 'lcpos': 'IN',\n",
       " 'ldep': 'amod',\n",
       " 'ldpos': 'NNS',\n",
       " 'ldtoken': 'cells',\n",
       " 'llcpos': 'NN',\n",
       " 'lldep': 'prep_in',\n",
       " 'lldpos': 'NN',\n",
       " 'ltoken': 'in',\n",
       " 'pos': 'JJ',\n",
       " 'rcpos': 'NNS',\n",
       " 'rdep': 'None',\n",
       " 'rdpos': 'None',\n",
       " 'rdtoken': 'None',\n",
       " 'rrcpos': 'IN',\n",
       " 'rrdep': 'None',\n",
       " 'rrdpos': 'None',\n",
       " 'rtoken': 'cells',\n",
       " 'sentLoc': 0.42857142857142855,\n",
       " 'sentLocldep': 0.47619047619047616,\n",
       " 'sentLocrdep': -0.1,\n",
       " 'token': 'leukemic'}"
      ]
     },
     "metadata": {},
     "output_type": "display_data"
    },
    {
     "data": {
      "text/plain": [
       "{'event': 'None',\n",
       " 'id': 'bt_10',\n",
       " 'lcpos': 'JJ',\n",
       " 'ldep': 'prep_in',\n",
       " 'ldpos': 'NN',\n",
       " 'ldtoken': 'Down-regulation',\n",
       " 'llcpos': 'IN',\n",
       " 'lldep': 'None',\n",
       " 'lldpos': 'None',\n",
       " 'ltoken': 'leukemic',\n",
       " 'pos': 'NNS',\n",
       " 'rcpos': 'IN',\n",
       " 'rdep': 'amod',\n",
       " 'rdpos': 'JJ',\n",
       " 'rdtoken': 'leukemic',\n",
       " 'rrcpos': 'TO',\n",
       " 'rrdep': 'None',\n",
       " 'rrdpos': 'None',\n",
       " 'rtoken': 'due',\n",
       " 'sentLoc': 0.47619047619047616,\n",
       " 'sentLocldep': 0.0,\n",
       " 'sentLocrdep': 0.42857142857142855,\n",
       " 'token': 'cells'}"
      ]
     },
     "metadata": {},
     "output_type": "display_data"
    },
    {
     "data": {
      "text/plain": [
       "{'event': 'None',\n",
       " 'id': 'bt_11',\n",
       " 'lcpos': 'NNS',\n",
       " 'ldep': 'None',\n",
       " 'ldpos': 'None',\n",
       " 'ldtoken': 'None',\n",
       " 'llcpos': 'JJ',\n",
       " 'lldep': 'None',\n",
       " 'lldpos': 'None',\n",
       " 'ltoken': 'cells',\n",
       " 'pos': 'IN',\n",
       " 'rcpos': 'TO',\n",
       " 'rdep': 'None',\n",
       " 'rdpos': 'None',\n",
       " 'rdtoken': 'None',\n",
       " 'rrcpos': 'NN',\n",
       " 'rrdep': 'None',\n",
       " 'rrdpos': 'None',\n",
       " 'rtoken': 'to',\n",
       " 'sentLoc': 0.5238095238095238,\n",
       " 'sentLocldep': -0.1,\n",
       " 'sentLocrdep': -0.1,\n",
       " 'token': 'due'}"
      ]
     },
     "metadata": {},
     "output_type": "display_data"
    },
    {
     "data": {
      "text/plain": [
       "{'event': 'None',\n",
       " 'id': 'bt_12',\n",
       " 'lcpos': 'IN',\n",
       " 'ldep': 'None',\n",
       " 'ldpos': 'None',\n",
       " 'ldtoken': 'None',\n",
       " 'llcpos': 'NNS',\n",
       " 'lldep': 'None',\n",
       " 'lldpos': 'None',\n",
       " 'ltoken': 'due',\n",
       " 'pos': 'TO',\n",
       " 'rcpos': 'NN',\n",
       " 'rdep': 'None',\n",
       " 'rdpos': 'None',\n",
       " 'rdtoken': 'None',\n",
       " 'rrcpos': 'IN',\n",
       " 'rrdep': 'None',\n",
       " 'rrdpos': 'None',\n",
       " 'rtoken': 'hypermethylation',\n",
       " 'sentLoc': 0.5714285714285714,\n",
       " 'sentLocldep': -0.1,\n",
       " 'sentLocrdep': -0.1,\n",
       " 'token': 'to'}"
      ]
     },
     "metadata": {},
     "output_type": "display_data"
    },
    {
     "data": {
      "text/plain": [
       "{'event': 'None',\n",
       " 'id': 'bt_13',\n",
       " 'lcpos': 'TO',\n",
       " 'ldep': 'prep_due_to',\n",
       " 'ldpos': 'NN',\n",
       " 'ldtoken': 'Down-regulation',\n",
       " 'llcpos': 'IN',\n",
       " 'lldep': 'None',\n",
       " 'lldpos': 'None',\n",
       " 'ltoken': 'to',\n",
       " 'pos': 'NN',\n",
       " 'rcpos': 'IN',\n",
       " 'rdep': 'prep_in',\n",
       " 'rdpos': 'NN',\n",
       " 'rdtoken': 'region',\n",
       " 'rrcpos': 'NN',\n",
       " 'rrdep': 'nn',\n",
       " 'rrdpos': 'NN',\n",
       " 'rtoken': 'of',\n",
       " 'sentLoc': 0.6190476190476191,\n",
       " 'sentLocldep': 0.0,\n",
       " 'sentLocrdep': 0.9523809523809523,\n",
       " 'token': 'hypermethylation'}"
      ]
     },
     "metadata": {},
     "output_type": "display_data"
    },
    {
     "data": {
      "text/plain": [
       "{'event': 'None',\n",
       " 'id': 'bt_14',\n",
       " 'lcpos': 'NN',\n",
       " 'ldep': 'None',\n",
       " 'ldpos': 'None',\n",
       " 'ldtoken': 'None',\n",
       " 'llcpos': 'TO',\n",
       " 'lldep': 'None',\n",
       " 'lldpos': 'None',\n",
       " 'ltoken': 'hypermethylation',\n",
       " 'pos': 'IN',\n",
       " 'rcpos': 'NN',\n",
       " 'rdep': 'None',\n",
       " 'rdpos': 'None',\n",
       " 'rdtoken': 'None',\n",
       " 'rrcpos': 'NNS',\n",
       " 'rrdep': 'None',\n",
       " 'rrdpos': 'None',\n",
       " 'rtoken': 'CpG',\n",
       " 'sentLoc': 0.6666666666666666,\n",
       " 'sentLocldep': -0.1,\n",
       " 'sentLocrdep': -0.1,\n",
       " 'token': 'of'}"
      ]
     },
     "metadata": {},
     "output_type": "display_data"
    },
    {
     "data": {
      "text/plain": [
       "{'event': 'None',\n",
       " 'id': 'bt_15',\n",
       " 'lcpos': 'IN',\n",
       " 'ldep': 'nn',\n",
       " 'ldpos': 'NNS',\n",
       " 'ldtoken': 'motifs',\n",
       " 'llcpos': 'NN',\n",
       " 'lldep': 'prep_of',\n",
       " 'lldpos': 'NN',\n",
       " 'ltoken': 'of',\n",
       " 'pos': 'NN',\n",
       " 'rcpos': 'NNS',\n",
       " 'rdep': 'None',\n",
       " 'rdpos': 'None',\n",
       " 'rdtoken': 'None',\n",
       " 'rrcpos': 'IN',\n",
       " 'rrdep': 'None',\n",
       " 'rrdpos': 'None',\n",
       " 'rtoken': 'motifs',\n",
       " 'sentLoc': 0.7142857142857143,\n",
       " 'sentLocldep': 0.7619047619047619,\n",
       " 'sentLocrdep': -0.1,\n",
       " 'token': 'CpG'}"
      ]
     },
     "metadata": {},
     "output_type": "display_data"
    },
    {
     "data": {
      "text/plain": [
       "{'event': 'None',\n",
       " 'id': 'bt_16',\n",
       " 'lcpos': 'NN',\n",
       " 'ldep': 'prep_of',\n",
       " 'ldpos': 'NN',\n",
       " 'ldtoken': 'hypermethylation',\n",
       " 'llcpos': 'IN',\n",
       " 'lldep': 'prep_due_to',\n",
       " 'lldpos': 'NN',\n",
       " 'ltoken': 'CpG',\n",
       " 'pos': 'NNS',\n",
       " 'rcpos': 'IN',\n",
       " 'rdep': 'nn',\n",
       " 'rdpos': 'NN',\n",
       " 'rdtoken': 'CpG',\n",
       " 'rrcpos': 'DT',\n",
       " 'rrdep': 'None',\n",
       " 'rrdpos': 'None',\n",
       " 'rtoken': 'in',\n",
       " 'sentLoc': 0.7619047619047619,\n",
       " 'sentLocldep': 0.6190476190476191,\n",
       " 'sentLocrdep': 0.7142857142857143,\n",
       " 'token': 'motifs'}"
      ]
     },
     "metadata": {},
     "output_type": "display_data"
    },
    {
     "data": {
      "text/plain": [
       "{'event': 'None',\n",
       " 'id': 'bt_17',\n",
       " 'lcpos': 'NNS',\n",
       " 'ldep': 'None',\n",
       " 'ldpos': 'None',\n",
       " 'ldtoken': 'None',\n",
       " 'llcpos': 'NN',\n",
       " 'lldep': 'None',\n",
       " 'lldpos': 'None',\n",
       " 'ltoken': 'motifs',\n",
       " 'pos': 'IN',\n",
       " 'rcpos': 'DT',\n",
       " 'rdep': 'None',\n",
       " 'rdpos': 'None',\n",
       " 'rdtoken': 'None',\n",
       " 'rrcpos': 'NN',\n",
       " 'rrdep': 'None',\n",
       " 'rrdpos': 'None',\n",
       " 'rtoken': 'the',\n",
       " 'sentLoc': 0.8095238095238095,\n",
       " 'sentLocldep': -0.1,\n",
       " 'sentLocrdep': -0.1,\n",
       " 'token': 'in'}"
      ]
     },
     "metadata": {},
     "output_type": "display_data"
    },
    {
     "data": {
      "text/plain": [
       "{'event': 'None',\n",
       " 'id': 'bt_18',\n",
       " 'lcpos': 'IN',\n",
       " 'ldep': 'det',\n",
       " 'ldpos': 'NN',\n",
       " 'ldtoken': 'region',\n",
       " 'llcpos': 'NNS',\n",
       " 'lldep': 'prep_in',\n",
       " 'lldpos': 'NN',\n",
       " 'ltoken': 'in',\n",
       " 'pos': 'DT',\n",
       " 'rcpos': 'NN',\n",
       " 'rdep': 'None',\n",
       " 'rdpos': 'None',\n",
       " 'rdtoken': 'None',\n",
       " 'rrcpos': 'NN',\n",
       " 'rrdep': 'None',\n",
       " 'rrdpos': 'None',\n",
       " 'rtoken': 'promoter',\n",
       " 'sentLoc': 0.8571428571428571,\n",
       " 'sentLocldep': 0.9523809523809523,\n",
       " 'sentLocrdep': -0.1,\n",
       " 'token': 'the'}"
      ]
     },
     "metadata": {},
     "output_type": "display_data"
    },
    {
     "data": {
      "text/plain": [
       "{'event': 'None',\n",
       " 'id': 'bt_19',\n",
       " 'lcpos': 'DT',\n",
       " 'ldep': 'nn',\n",
       " 'ldpos': 'NN',\n",
       " 'ldtoken': 'region',\n",
       " 'llcpos': 'IN',\n",
       " 'lldep': 'prep_in',\n",
       " 'lldpos': 'NN',\n",
       " 'ltoken': 'the',\n",
       " 'pos': 'NN',\n",
       " 'rcpos': 'NN',\n",
       " 'rdep': 'None',\n",
       " 'rdpos': 'None',\n",
       " 'rdtoken': 'None',\n",
       " 'rrcpos': 'None',\n",
       " 'rrdep': 'None',\n",
       " 'rrdpos': 'None',\n",
       " 'rtoken': 'region',\n",
       " 'sentLoc': 0.9047619047619048,\n",
       " 'sentLocldep': 0.9523809523809523,\n",
       " 'sentLocrdep': -0.1,\n",
       " 'token': 'promoter'}"
      ]
     },
     "metadata": {},
     "output_type": "display_data"
    },
    {
     "data": {
      "text/plain": [
       "{'event': 'None',\n",
       " 'id': 'bt_20',\n",
       " 'lcpos': 'NN',\n",
       " 'ldep': 'prep_in',\n",
       " 'ldpos': 'NN',\n",
       " 'ldtoken': 'hypermethylation',\n",
       " 'llcpos': 'DT',\n",
       " 'lldep': 'prep_due_to',\n",
       " 'lldpos': 'NN',\n",
       " 'ltoken': 'promoter',\n",
       " 'pos': 'NN',\n",
       " 'rcpos': 'None',\n",
       " 'rdep': 'nn',\n",
       " 'rdpos': 'NN',\n",
       " 'rdtoken': 'promoter',\n",
       " 'rrcpos': 'None',\n",
       " 'rrdep': 'None',\n",
       " 'rrdpos': 'None',\n",
       " 'rtoken': 'None',\n",
       " 'sentLoc': 0.9523809523809523,\n",
       " 'sentLocldep': 0.6190476190476191,\n",
       " 'sentLocrdep': 0.9047619047619048,\n",
       " 'token': 'region'}"
      ]
     },
     "metadata": {},
     "output_type": "display_data"
    }
   ],
   "source": [
    "sentence = '';\n",
    "for elem in tr_list[0]:\n",
    "    sentence = sentence + \" \" +elem['token']\n",
    "print(sentence)\n",
    "for elem in tr_list[0]:\n",
    "    display(elem)"
   ]
  },
  {
   "cell_type": "code",
   "execution_count": 8,
   "metadata": {},
   "outputs": [
    {
     "data": {
      "text/plain": [
       "{'event': 'Negative_regulation',\n",
       " 'id': 'bt_0',\n",
       " 'lcpos': 'None',\n",
       " 'ldep': 'None',\n",
       " 'ldpos': 'None',\n",
       " 'ldtoken': 'None',\n",
       " 'llcpos': 'None',\n",
       " 'lldep': 'None',\n",
       " 'lldpos': 'None',\n",
       " 'ltoken': 'None',\n",
       " 'pos': 'NN',\n",
       " 'rcpos': 'IN',\n",
       " 'rdep': 'prep_due_to',\n",
       " 'rdpos': 'NN',\n",
       " 'rdtoken': 'hypermethylation',\n",
       " 'rrcpos': 'NN',\n",
       " 'rrdep': 'prep_in',\n",
       " 'rrdpos': 'NN',\n",
       " 'rtoken': 'of',\n",
       " 'sentLoc': 0.0,\n",
       " 'sentLocldep': -0.1,\n",
       " 'sentLocrdep': 0.6190476190476191,\n",
       " 'token': 'Down-regulation'}"
      ]
     },
     "execution_count": 8,
     "metadata": {},
     "output_type": "execute_result"
    }
   ],
   "source": [
    "tr_list[0][0]"
   ]
  },
  {
   "cell_type": "code",
   "execution_count": 9,
   "metadata": {},
   "outputs": [],
   "source": [
    "def getWordEmb(aSentList):\n",
    "    sentences_corpus = list();\n",
    "    for sent_elem in aSentList:\n",
    "        sentence = list();\n",
    "        for word in sent_elem:\n",
    "            #print(word['token'])\n",
    "            sentence.append(word['token']);\n",
    "        sentences_corpus.append(sentence);\n",
    "    wemb = Word2Vec(sentences_corpus, min_count=1)\n",
    "    return wemb;"
   ]
  },
  {
   "cell_type": "code",
   "execution_count": 10,
   "metadata": {
    "scrolled": true
   },
   "outputs": [
    {
     "name": "stdout",
     "output_type": "stream",
     "text": [
      "11552\n",
      "8666\n",
      "2886\n",
      "0.767306\n"
     ]
    },
    {
     "name": "stderr",
     "output_type": "stream",
     "text": [
      "/Users/nishu/anaconda3/lib/python3.6/site-packages/ipykernel_launcher.py:9: DeprecationWarning: Call to deprecated `__getitem__` (Method will be removed in 4.0.0, use self.wv.__getitem__() instead).\n",
      "  if __name__ == '__main__':\n"
     ]
    }
   ],
   "source": [
    "all_sent_list = tr_list + dev_list\n",
    "#all_sent_list.extend(dev_list)\n",
    "#all_sent_list.append(dev_list)\n",
    "print(len(all_sent_list))\n",
    "print(len(tr_list))\n",
    "print(len(dev_list))\n",
    "emb_model = getWordEmb(all_sent_list);\n",
    "\n",
    "print(emb_model['gene'][0])"
   ]
  },
  {
   "cell_type": "code",
   "execution_count": 11,
   "metadata": {},
   "outputs": [],
   "source": [
    "pos_superset_all= {};\n",
    "dep_tag_superset_all={};\n",
    "event_type_superset_all={};\n",
    "\n",
    "pos_superset_tr= {};\n",
    "dep_tag_superset_tr={};\n",
    "event_type_superset_tr={};\n",
    "\n",
    "pos_superset_dev= {};\n",
    "dep_tag_superset_dev={};\n",
    "event_type_superset_dev={};\n",
    "\n",
    "\n",
    "def addToMetaDataMetrics(aSent, pos_superset, dep_tag_superset, event_type_superset):\n",
    "    for word in sent:\n",
    "        if word['pos'] in pos_superset:\n",
    "            pos_superset[word['pos']] = pos_superset[word['pos']] + 1;\n",
    "        else:\n",
    "            pos_superset[word['pos']] = 1;\n",
    "        if word['ldep']:\n",
    "            if word['ldep'] in dep_tag_superset:\n",
    "                dep_tag_superset[word['ldep']] = dep_tag_superset[word['ldep']] + 1;\n",
    "            else:\n",
    "                dep_tag_superset[word['ldep']]=1;\n",
    "        if word['rdep']:\n",
    "            if word['rdep'] in dep_tag_superset:\n",
    "                dep_tag_superset[word['rdep']] = dep_tag_superset[word['rdep']] + 1;\n",
    "            else:\n",
    "                dep_tag_superset[word['rdep']] = 1;\n",
    "        if word['event']:\n",
    "            if word['event'] in event_type_superset:\n",
    "                event_type_superset[word['event']] = event_type_superset[word['event']] + 1;\n",
    "            else:\n",
    "                event_type_superset[word['event']] = 1;\n",
    "\n",
    "for sent in tr_list:\n",
    "    addToMetaDataMetrics(sent, pos_superset_tr, dep_tag_superset_tr, event_type_superset_tr);\n",
    "for sent in dev_list:\n",
    "    addToMetaDataMetrics(sent, pos_superset_dev, dep_tag_superset_dev, event_type_superset_dev);\n",
    "\n",
    "pos_superset_all.update(pos_superset_tr);\n",
    "pos_superset_all.update(pos_superset_dev);\n",
    "dep_tag_superset_all.update(dep_tag_superset_tr);\n",
    "dep_tag_superset_all.update(dep_tag_superset_dev);\n",
    "event_type_superset_all.update(event_type_superset_tr);\n",
    "event_type_superset_all.update(event_type_superset_dev);\n",
    "#for sent in test_list:\n",
    "#    addToMetaDataMetrics(sent);\n",
    "\n",
    "pos_keys = list(pos_superset_all.keys())\n",
    "pos_keys.append('None');\n",
    "dep_keys = list(dep_tag_superset_all.keys())\n",
    "event_keys = list(event_type_superset_all.keys())"
   ]
  },
  {
   "cell_type": "code",
   "execution_count": 12,
   "metadata": {},
   "outputs": [
    {
     "name": "stdout",
     "output_type": "stream",
     "text": [
      "POS Categories 40\n",
      "Dependency tag Categories 210\n"
     ]
    }
   ],
   "source": [
    "print('POS Categories', len(pos_keys))\n",
    "print('Dependency tag Categories', len(dep_keys))"
   ]
  },
  {
   "cell_type": "code",
   "execution_count": 13,
   "metadata": {},
   "outputs": [],
   "source": [
    "num_out_class = len(event_keys);\n",
    "num_pos = len(pos_keys);\n",
    "num_dep = len(dep_keys);\n",
    "batch_size = 128;\n",
    "epoch_size = 100;\n",
    "markov_two= False;\n",
    "markov_one_enc=False;\n",
    "dep_enabled = True;\n",
    "word_enc_enabled = True;\n",
    "basic = True;\n",
    "meta_info = True;\n"
   ]
  },
  {
   "cell_type": "code",
   "execution_count": 14,
   "metadata": {},
   "outputs": [
    {
     "data": {
      "text/plain": [
       "['Negative_regulation',\n",
       " 'None',\n",
       " 'Gene_expression',\n",
       " 'Regulation',\n",
       " 'Transcription',\n",
       " 'Positive_regulation',\n",
       " 'Binding',\n",
       " 'Localization',\n",
       " 'Phosphorylation',\n",
       " 'Protein_catabolism']"
      ]
     },
     "execution_count": 14,
     "metadata": {},
     "output_type": "execute_result"
    }
   ],
   "source": [
    "event_keys"
   ]
  },
  {
   "cell_type": "code",
   "execution_count": 15,
   "metadata": {},
   "outputs": [
    {
     "data": {
      "text/plain": [
       "{'Binding': 255,\n",
       " 'Gene_expression': 555,\n",
       " 'Localization': 43,\n",
       " 'Negative_regulation': 325,\n",
       " 'None': 73094,\n",
       " 'Phosphorylation': 73,\n",
       " 'Positive_regulation': 682,\n",
       " 'Protein_catabolism': 18,\n",
       " 'Regulation': 194,\n",
       " 'Transcription': 115}"
      ]
     },
     "execution_count": 15,
     "metadata": {},
     "output_type": "execute_result"
    }
   ],
   "source": [
    "event_type_superset_all"
   ]
  },
  {
   "cell_type": "code",
   "execution_count": null,
   "metadata": {},
   "outputs": [],
   "source": []
  },
  {
   "cell_type": "code",
   "execution_count": 16,
   "metadata": {
    "scrolled": true
   },
   "outputs": [
    {
     "data": {
      "text/plain": [
       "<matplotlib.figure.Figure at 0x1270abbe0>"
      ]
     },
     "metadata": {},
     "output_type": "display_data"
    },
    {
     "data": {
      "text/plain": [
       "<matplotlib.figure.Figure at 0x125b9c320>"
      ]
     },
     "metadata": {},
     "output_type": "display_data"
    }
   ],
   "source": [
    "import seaborn as sns\n",
    "import pandas as pd\n",
    "import copy\n",
    "import matplotlib.pyplot as plt\n",
    "\n",
    "def plotEventDistribution(aData, title_part):\n",
    "    plt.figure(figsize=(15,5))\n",
    "    data = {'Event': list(aData.keys()), 'Event_Freq': list(aData.values())}\n",
    "    df = pd.DataFrame.from_dict(data)\n",
    "    df = df.sort_values(['Event']).reset_index(drop=True)\n",
    "    sns.set(style=\"whitegrid\")\n",
    "    \n",
    "    chart = sns.barplot(x=\"Event\", y=\"Event_Freq\", data=df);\n",
    "    chart.set_title('Event class distribution '+title_part, fontsize='large', fontweight='bold');\n",
    "    chart.set_xticklabels(chart.get_xticklabels(), rotation=45,fontsize='large');\n",
    "    plt.show()\n",
    "    \n",
    "event_type_data = copy.deepcopy(event_type_superset_tr);\n",
    "del(event_type_data['None'])\n",
    "plotEventDistribution(event_type_data, '(training dataset)')\n",
    "\n",
    "event_type_data = copy.deepcopy(event_type_superset_dev);\n",
    "del(event_type_data['None'])\n",
    "plotEventDistribution(event_type_data, '(devel dataset)')\n",
    "\n"
   ]
  },
  {
   "cell_type": "code",
   "execution_count": 17,
   "metadata": {},
   "outputs": [
    {
     "name": "stdout",
     "output_type": "stream",
     "text": [
      "226687\n"
     ]
    },
    {
     "data": {
      "image/png": "[encoded data removed]",
      "text/plain": [
       "<matplotlib.figure.Figure at 0x125f9ed30>"
      ]
     },
     "metadata": {},
     "output_type": "display_data"
    }
   ],
   "source": [
    "event_type_data = copy.deepcopy(event_type_superset_tr);\n",
    "print(event_type_data['None'])\n",
    "del(event_type_data['None'])\n",
    "factor=1.0/max(event_type_data.values())\n",
    "norm_event_type_data = {k: v*factor for k, v in event_type_data.items() }\n",
    "plotEventDistribution(norm_event_type_data, '(Normalized training dataset)')\n",
    "\n"
   ]
  },
  {
   "cell_type": "code",
   "execution_count": 18,
   "metadata": {},
   "outputs": [],
   "source": [
    "def getMetaData(aDataSet):\n",
    "    trig_pos_dict ={}\n",
    "    lneigh_pos_dict ={}\n",
    "    rneigh_pos_dict ={}\n",
    "    trig_ldept_dict ={}\n",
    "    trig_rdept_dict ={}\n",
    "    \n",
    "    for sent_obj in aDataSet:\n",
    "        for elem in sent_obj:\n",
    "            if elem['event'] != 'None':\n",
    "                elem_val = elem['pos'];\n",
    "                dict_obj = trig_pos_dict;\n",
    "                if elem_val in dict_obj:\n",
    "                    dict_obj[elem_val] = dict_obj[elem_val] +1;\n",
    "                else:\n",
    "                    dict_obj[elem_val] = 1;\n",
    "                elem_val = elem['lcpos'];\n",
    "                dict_obj = lneigh_pos_dict;\n",
    "                if elem_val in dict_obj:\n",
    "                    dict_obj[elem_val] = dict_obj[elem_val] +1;\n",
    "                else:\n",
    "                    dict_obj[elem_val] = 1;\n",
    "                elem_val = elem['rcpos'];\n",
    "                dict_obj = rneigh_pos_dict;\n",
    "                if elem_val in dict_obj:\n",
    "                    dict_obj[elem_val] = dict_obj[elem_val] +1;\n",
    "                else:\n",
    "                    dict_obj[elem_val] = 1;\n",
    "                elem_val = elem['ldep'];\n",
    "                dict_obj = trig_ldept_dict;\n",
    "                if elem_val in dict_obj:\n",
    "                    dict_obj[elem_val] = dict_obj[elem_val] +1;\n",
    "                else:\n",
    "                    dict_obj[elem_val] = 1;\n",
    "                elem_val = elem['rdep'];\n",
    "                dict_obj = trig_rdept_dict;\n",
    "                if elem_val in dict_obj:\n",
    "                    dict_obj[elem_val] = dict_obj[elem_val] +1;\n",
    "                else:\n",
    "                    dict_obj[elem_val] = 1;\n",
    "    del(lneigh_pos_dict['None']);\n",
    "    del(rneigh_pos_dict['None']);\n",
    "    del(trig_ldept_dict['None']);\n",
    "    del(trig_rdept_dict['None']);\n",
    "    return(trig_pos_dict, lneigh_pos_dict, rneigh_pos_dict, trig_ldept_dict, trig_rdept_dict);"
   ]
  },
  {
   "cell_type": "code",
   "execution_count": 19,
   "metadata": {},
   "outputs": [],
   "source": [
    "def pruneDictBasedOnFreq(aDict, aLowLimit, aHigherLimit):\n",
    "    dict_copy = dict(aDict);\n",
    "    max_val = max(aDict.values())\n",
    "    min_val = min(aDict.values())\n",
    "    min_thr = min_val + (max_val - min_val)*aLowLimit;\n",
    "    max_thr = max_val + (max_val - min_val)*aHigherLimit;\n",
    "    for (key, val) in aDict.items():\n",
    "        if val < min_thr or val > max_thr:\n",
    "            del dict_copy[key]\n",
    "    return dict_copy;"
   ]
  },
  {
   "cell_type": "code",
   "execution_count": 20,
   "metadata": {},
   "outputs": [],
   "source": [
    "trig_pos_dict, lneigh_pos_dict, rneigh_pos_dict, trig_ldept_dict, trig_rdept_dict = getMetaData(tr_list)"
   ]
  },
  {
   "cell_type": "code",
   "execution_count": 21,
   "metadata": {},
   "outputs": [],
   "source": [
    "def plotMetaData(aData, xaxisKey, yaxisKey, titleVal):\n",
    "    plt.figure(figsize=(15,5))\n",
    "    data = {xaxisKey: list(aData.keys()), yaxisKey: list(aData.values())}\n",
    "    df = pd.DataFrame.from_dict(data)\n",
    "    df = df.sort_values([xaxisKey]).reset_index(drop=True)\n",
    "    sns.set(style=\"whitegrid\")\n",
    "    \n",
    "    chart = sns.barplot(x=xaxisKey, y=yaxisKey, data=df);\n",
    "    chart.set_title(titleVal, fontsize='large', fontweight='bold');\n",
    "    chart.set_xticklabels(chart.get_xticklabels(), rotation=45,fontsize='large');\n",
    "    plt.show()"
   ]
  },
  {
   "cell_type": "code",
   "execution_count": 22,
   "metadata": {},
   "outputs": [
    {
     "name": "stdout",
     "output_type": "stream",
     "text": [
      "Total POS:  16\n"
     ]
    },
    {
     "data": {
      "image/png": "[encoded data removed]",
      "text/plain": [
       "<matplotlib.figure.Figure at 0x12758bcc0>"
      ]
     },
     "metadata": {},
     "output_type": "display_data"
    }
   ],
   "source": [
    "print('Total POS: ', len(trig_pos_dict.keys()))\n",
    "pruned = pruneDictBasedOnFreq(trig_pos_dict, 0.055, 1)\n",
    "plotMetaData(pruned, 'POS Tag', 'Freq', 'Trigger word POS Frequency')"
   ]
  },
  {
   "cell_type": "code",
   "execution_count": 23,
   "metadata": {},
   "outputs": [
    {
     "data": {
      "image/png": "[encoded data removed]",
      "text/plain": [
       "<matplotlib.figure.Figure at 0x12758b710>"
      ]
     },
     "metadata": {},
     "output_type": "display_data"
    }
   ],
   "source": [
    "pruned = pruneDictBasedOnFreq(lneigh_pos_dict, 0.11, 1)\n",
    "plotMetaData(pruned, 'POS Tag', 'Freq', 'Left Neighbour Word POS Frequency')"
   ]
  },
  {
   "cell_type": "code",
   "execution_count": 24,
   "metadata": {},
   "outputs": [
    {
     "data": {
      "image/png": "[encoded data removed]",
      "text/plain": [
       "<matplotlib.figure.Figure at 0x12739fa20>"
      ]
     },
     "metadata": {},
     "output_type": "display_data"
    }
   ],
   "source": [
    "pruned = pruneDictBasedOnFreq(rneigh_pos_dict, 0.05, 1)\n",
    "plotMetaData(pruned, 'POS Tag', 'Freq', 'Right Neighbour Word POS Frequency')"
   ]
  },
  {
   "cell_type": "code",
   "execution_count": 25,
   "metadata": {},
   "outputs": [
    {
     "data": {
      "image/png": "[encoded data removed]",
      "text/plain": [
       "<matplotlib.figure.Figure at 0x127947400>"
      ]
     },
     "metadata": {},
     "output_type": "display_data"
    }
   ],
   "source": [
    "pruned = pruneDictBasedOnFreq(trig_ldept_dict, 0.3, 1)\n",
    "plotMetaData(pruned, 'Dependency Parser Tag', 'Freq', 'Left Word Dependency Tag Frequency')"
   ]
  },
  {
   "cell_type": "code",
   "execution_count": 26,
   "metadata": {},
   "outputs": [
    {
     "data": {
      "image/png": "[encoded data removed]",
      "text/plain": [
       "<matplotlib.figure.Figure at 0x1279293c8>"
      ]
     },
     "metadata": {},
     "output_type": "display_data"
    }
   ],
   "source": [
    "pruned = pruneDictBasedOnFreq(trig_rdept_dict, 0.18, 1)\n",
    "plotMetaData(pruned, 'Dependency Parser Tag', 'Freq', 'Right Word Dependency Tag Frequency')"
   ]
  },
  {
   "cell_type": "code",
   "execution_count": null,
   "metadata": {},
   "outputs": [],
   "source": []
  },
  {
   "cell_type": "code",
   "execution_count": 27,
   "metadata": {},
   "outputs": [],
   "source": [
    "from sklearn.preprocessing import LabelEncoder\n",
    "import numpy as np\n",
    "\n",
    "event_keys_array = np.array(event_keys)\n",
    "pos_keys_array = np.array(pos_keys)\n",
    "dep_keys_array = np.array(dep_keys)\n",
    "\n",
    "event_encoder = LabelEncoder();\n",
    "event_encoder = event_encoder.fit(event_keys_array)\n",
    "pos_encoder = LabelEncoder();\n",
    "pos_encoder = pos_encoder.fit(pos_keys_array)\n",
    "dep_encoder = LabelEncoder();\n",
    "dep_encoder = dep_encoder.fit(dep_keys_array)\n",
    "\n",
    "from keras.utils import to_categorical;\n",
    "def getPosIp(aPos):\n",
    "    return to_categorical(pos_encoder.transform(aPos), num_classes=num_pos)\n",
    "def getDepIp(aDep):\n",
    "    return to_categorical(dep_encoder.transform(aDep), num_classes=num_dep)\n",
    "def getEvent(aEvent):\n",
    "    return to_categorical(event_encoder.transform(aEvent)[0], num_out_class);\n",
    "def getWordLen(aWord):\n",
    "    return np.array([len(aWord)]);\n",
    "def getWordLoc(aWordLoc):\n",
    "    return np.array([aWordLoc]);"
   ]
  },
  {
   "cell_type": "code",
   "execution_count": 28,
   "metadata": {},
   "outputs": [
    {
     "name": "stdout",
     "output_type": "stream",
     "text": [
      "Ip Dimension:  728\n"
     ]
    },
    {
     "name": "stderr",
     "output_type": "stream",
     "text": [
      "/Users/nishu/anaconda3/lib/python3.6/site-packages/ipykernel_launcher.py:3: DeprecationWarning: Call to deprecated `__getitem__` (Method will be removed in 4.0.0, use self.wv.__getitem__() instead).\n",
      "  This is separate from the ipykernel package so we can avoid doing imports until\n"
     ]
    }
   ],
   "source": [
    "sample_pos_ip = getPosIp([pos_keys[0]]);\n",
    "sample_dep_ip = getDepIp([dep_keys[0]]);\n",
    "sample_word_enc_ip = emb_model['gene'];\n",
    "sample_wl = getWordLen('negative');\n",
    "sample_wloc = getWordLoc(4);\n",
    "mk_pos = 0;\n",
    "mk_dep = 0;\n",
    "dep_fields=0;\n",
    "dep_pos_fields=0;\n",
    "mk_one_enc=0;\n",
    "wrd_enc_fields = 0;\n",
    "basic_pos=0;\n",
    "meta_wl=0;\n",
    "meta_wloc=0;\n",
    "if meta_info:\n",
    "    meta_wl = 5;\n",
    "    meta_wloc = 3;\n",
    "\n",
    "if basic:\n",
    "    basic_pos=3\n",
    "if markov_two:\n",
    "    mk_pos=4;\n",
    "    mk_dep=2;\n",
    "if markov_one_enc:\n",
    "    mk_one_enc=4;\n",
    "if word_enc_enabled:\n",
    "    wrd_enc_fields = 1;\n",
    "if dep_enabled:\n",
    "    dep_fields=2;\n",
    "    dep_pos_fields = 2;\n",
    "    \n",
    "ip_dim = len(sample_pos_ip[0])*(basic_pos+dep_pos_fields+mk_pos) + len(sample_dep_ip[0])*(dep_fields+mk_dep) + len(sample_word_enc_ip)*(wrd_enc_fields+mk_one_enc) + len(sample_wloc)*meta_wloc + len(sample_wl)*meta_wl;\n",
    "print(\"Ip Dimension: \", ip_dim)"
   ]
  },
  {
   "cell_type": "code",
   "execution_count": 29,
   "metadata": {},
   "outputs": [
    {
     "data": {
      "text/plain": [
       "234075"
      ]
     },
     "execution_count": 29,
     "metadata": {},
     "output_type": "execute_result"
    }
   ],
   "source": [
    "wrdcnt = 0;\n",
    "for sent in tr_list:\n",
    "    wrdcnt = wrdcnt + len(sent)\n",
    "wrdcnt"
   ]
  },
  {
   "cell_type": "code",
   "execution_count": 43,
   "metadata": {},
   "outputs": [],
   "source": [
    "import random\n",
    "random.uniform(0, 1)\n",
    "def getNNData(aSentList, aCountAllNone=False):\n",
    "    x=[];\n",
    "    y=[];\n",
    "    for sent in aSentList:\n",
    "        for word in sent:\n",
    "            if word['event'] == 'None':\n",
    "                if not aCountAllNone:\n",
    "                    if random.uniform(0,1) > 0.0002:\n",
    "                        continue;\n",
    "            #if word['event'] not in ['None']:\n",
    "                #print(word['token'], word['event'])\n",
    "            wp = getPosIp([word['pos']])[0]; \n",
    "            wlcp = getPosIp([word['lcpos']])[0];\n",
    "            wrcp = getPosIp([word['rcpos']])[0];\n",
    "            wldp = getPosIp([word['ldpos']])[0];\n",
    "            wrdp = getPosIp([word['rdpos']])[0];\n",
    "            wld = getDepIp([word['ldep']])[0];\n",
    "            wrd = getDepIp([word['rdep']])[0];\n",
    "            partial_elem = np.ndarray((0,));\n",
    "            if markov_two:\n",
    "                wllcp = getPosIp([word['llcpos']])[0];\n",
    "                wrrcp = getPosIp([word['rrcpos']])[0];\n",
    "                wlldp = getPosIp([word['lldpos']])[0];\n",
    "                wrrdp = getPosIp([word['rrdpos']])[0];\n",
    "                wlld = getDepIp([word['lldep']])[0];\n",
    "                wrrd = getDepIp([word['rrdep']])[0];\n",
    "                partial_elem = np.concatenate((partial_elem, wllcp, wrrcp, wlldp, wrrdp, wlld, wrrd));\n",
    "            if markov_one_enc:\n",
    "                wle = emb_model[word['ltoken']];\n",
    "                wre = emb_model[word['rtoken']];\n",
    "                wlde = emb_model[word['ldtoken']];\n",
    "                wrde = emb_model[word['rdtoken']];\n",
    "                partial_elem = np.concatenate((partial_elem, wle, wre, wlde, wrde));\n",
    "            if dep_enabled:\n",
    "                partial_elem = np.concatenate((partial_elem, wldp, wrdp, wld, wrd));\n",
    "            if word_enc_enabled:\n",
    "                we = emb_model[word['token']];\n",
    "                partial_elem = np.concatenate((partial_elem, we));\n",
    "            if basic:\n",
    "                partial_elem = np.concatenate((partial_elem, wp, wlcp, wrcp))\n",
    "            if meta_info:\n",
    "                wlen = getWordLen(word['token']);\n",
    "                wllen= getWordLen(word['ltoken']);\n",
    "                wrlen= getWordLen(word['rtoken']);\n",
    "                wldlen= getWordLen(word['ldtoken']);\n",
    "                wrdlen= getWordLen(word['rdtoken']);\n",
    "                wloc = getWordLoc(word['sentLoc']);\n",
    "                wldeploc = getWordLoc(word['sentLocldep'])\n",
    "                wrdeploc = getWordLoc(word['sentLocrdep'])\n",
    "                partial_elem = np.concatenate((partial_elem, wlen, wllen, wrlen, wldlen, wrdlen, wloc, wldeploc, wrdeploc));\n",
    "            x_elem = partial_elem\n",
    "            x.append(x_elem);\n",
    "            y.append(getEvent([word['event']]));\n",
    "    x=np.array(x);\n",
    "    y=np.array(y);\n",
    "    return(x,y)"
   ]
  },
  {
   "cell_type": "code",
   "execution_count": 44,
   "metadata": {
    "scrolled": true
   },
   "outputs": [
    {
     "name": "stderr",
     "output_type": "stream",
     "text": [
      "/Users/nishu/anaconda3/lib/python3.6/site-packages/ipykernel_launcher.py:39: DeprecationWarning: Call to deprecated `__getitem__` (Method will be removed in 4.0.0, use self.wv.__getitem__() instead).\n"
     ]
    },
    {
     "name": "stdout",
     "output_type": "stream",
     "text": [
      "(7425, 728) (7425, 10) <class 'numpy.ndarray'> <class 'numpy.ndarray'>\n"
     ]
    }
   ],
   "source": [
    "(x_tr, y_tr) = getNNData(tr_list);\n",
    "print(np.shape(x_tr), np.shape(y_tr), type(x_tr), type(y_tr))"
   ]
  },
  {
   "cell_type": "code",
   "execution_count": 45,
   "metadata": {},
   "outputs": [
    {
     "name": "stderr",
     "output_type": "stream",
     "text": [
      "/Users/nishu/anaconda3/lib/python3.6/site-packages/ipykernel_launcher.py:39: DeprecationWarning: Call to deprecated `__getitem__` (Method will be removed in 4.0.0, use self.wv.__getitem__() instead).\n"
     ]
    },
    {
     "name": "stdout",
     "output_type": "stream",
     "text": [
      "(2270, 728) (2270, 10) <class 'numpy.ndarray'> <class 'numpy.ndarray'>\n"
     ]
    }
   ],
   "source": [
    "(x_test, y_test) = getNNData(dev_list);\n",
    "print(np.shape(x_test), np.shape(y_test), type(x_test), type(y_test))"
   ]
  },
  {
   "cell_type": "code",
   "execution_count": 46,
   "metadata": {},
   "outputs": [],
   "source": [
    "#(x_utst, y_utst) = getNNData(test_list, True);\n",
    "#print(np.shape(x_utst), np.shape(y_utst), type(x_utst), type(y_utst))"
   ]
  },
  {
   "cell_type": "code",
   "execution_count": 48,
   "metadata": {},
   "outputs": [],
   "source": [
    "x_val, x_tst, y_val, y_tst = train_test_split(x_test, y_test, test_size=0.5, stratify=y_test)"
   ]
  },
  {
   "cell_type": "code",
   "execution_count": 49,
   "metadata": {},
   "outputs": [
    {
     "name": "stdout",
     "output_type": "stream",
     "text": [
      "(1135, 728) (1135, 10) <class 'numpy.ndarray'> <class 'numpy.ndarray'>\n"
     ]
    }
   ],
   "source": [
    "print(np.shape(x_val), np.shape(y_tst), type(x_val), type(y_tst))"
   ]
  },
  {
   "cell_type": "code",
   "execution_count": 50,
   "metadata": {},
   "outputs": [
    {
     "name": "stdout",
     "output_type": "stream",
     "text": [
      "____________________________________________________________________________________________________\n",
      "Layer (type)                                 Output Shape                            Param #        \n",
      "====================================================================================================\n",
      ". (InputLayer)                               (None, 728)                             0              \n",
      "____________________________________________________________________________________________________\n",
      "stage-1 (BatchNormalization)                 (None, 728)                             2912           \n",
      "____________________________________________________________________________________________________\n",
      "st1_activation_relu (Dense)                  (None, 512)                             373248         \n",
      "____________________________________________________________________________________________________\n",
      "hyperparameter_0.7 (Dropout)                 (None, 512)                             0              \n",
      "____________________________________________________________________________________________________\n",
      "stage-2 (BatchNormalization)                 (None, 512)                             2048           \n",
      "____________________________________________________________________________________________________\n",
      "st2_activation_relu (Dense)                  (None, 256)                             131328         \n",
      "____________________________________________________________________________________________________\n",
      "hyperparameter_0.6 (Dropout)                 (None, 256)                             0              \n",
      "____________________________________________________________________________________________________\n",
      "stage-3 (BatchNormalization)                 (None, 256)                             1024           \n",
      "____________________________________________________________________________________________________\n",
      "st3_activation_relu (Dense)                  (None, 32)                              8224           \n",
      "____________________________________________________________________________________________________\n",
      "stage-4 (BatchNormalization)                 (None, 32)                              128            \n",
      "____________________________________________________________________________________________________\n",
      "st4_activation_relu (Dense)                  (None, 16)                              528            \n",
      "____________________________________________________________________________________________________\n",
      "stage-5 (BatchNormalization)                 (None, 16)                              64             \n",
      "____________________________________________________________________________________________________\n",
      "activation_softmax (Dense)                   (None, 10)                              170            \n",
      "====================================================================================================\n",
      "Total params: 519,674\n",
      "Trainable params: 516,586\n",
      "Non-trainable params: 3,088\n",
      "____________________________________________________________________________________________________\n"
     ]
    }
   ],
   "source": [
    "# model\n",
    "model = Sequential()\n",
    "\n",
    "model.add(InputLayer(input_shape=(ip_dim,), name='.'))\n",
    "model.add(BatchNormalization(name='stage-1'))\n",
    "model.add(Dense(512, activation='relu', name='st1_activation_relu')) # fully connected\n",
    "model.add(Dropout(0.7, name='hyperparameter_0.7'))\n",
    "\n",
    "\n",
    "model.add(BatchNormalization(name='stage-2'))\n",
    "model.add(Dense(256, activation='relu', name='st2_activation_relu')) # fully connected\n",
    "model.add(Dropout(0.6, name='hyperparameter_0.6'))\n",
    "\n",
    "\n",
    "model.add(BatchNormalization(name='stage-3'))\n",
    "model.add(Dense(32, activation='relu',name='st3_activation_relu')) # fully connected\n",
    "model.add(BatchNormalization(name='stage-4'))\n",
    "model.add(Dense(16, activation='relu',name='st4_activation_relu')) # fully connected\n",
    "\n",
    "model.add(BatchNormalization(name='stage-5'))\n",
    "# softmax layer\n",
    "model.add(Dense(num_out_class, activation='softmax',name='activation_softmax'))\n",
    "\n",
    "# model summary\n",
    "model.summary(line_length=100)"
   ]
  },
  {
   "cell_type": "code",
   "execution_count": 51,
   "metadata": {
    "scrolled": true
   },
   "outputs": [
    {
     "data": {
      "image/png": "[encoded data removed]",
      "text/plain": [
       "<PIL.PngImagePlugin.PngImageFile image mode=RGB size=297x1401 at 0x128FC97B8>"
      ]
     },
     "metadata": {},
     "output_type": "display_data"
    }
   ],
   "source": [
    "import pydot\n",
    "from keras.utils import plot_model\n",
    "plot_model(model, to_file='model_structure.png', show_shapes=True, show_layer_names=False)\n",
    "\n",
    "from PIL import Image\n",
    "im = Image.open(\"model_structure.png\")\n",
    "display(im)"
   ]
  },
  {
   "cell_type": "code",
   "execution_count": 52,
   "metadata": {},
   "outputs": [],
   "source": [
    "def compileModel():\n",
    "    model.compile(loss=keras.losses.categorical_crossentropy,\n",
    "                  #optimizer=keras.optimizers.Adadelta(),\n",
    "                  optimizer='adam',\n",
    "                  metrics=['accuracy'])\n",
    "    return model;"
   ]
  },
  {
   "cell_type": "code",
   "execution_count": 53,
   "metadata": {},
   "outputs": [
    {
     "data": {
      "text/plain": [
       "<keras.models.Sequential at 0x128d774e0>"
      ]
     },
     "execution_count": 53,
     "metadata": {},
     "output_type": "execute_result"
    }
   ],
   "source": [
    "compileModel()"
   ]
  },
  {
   "cell_type": "code",
   "execution_count": 54,
   "metadata": {},
   "outputs": [
    {
     "name": "stdout",
     "output_type": "stream",
     "text": [
      "[ 681 1773  223  901   37  148 2340   93  738  491]\n"
     ]
    },
    {
     "data": {
      "text/plain": [
       "array([ 1.09030837,  0.41878173,  3.32959641,  0.82408435, 20.06756757,\n",
       "        5.01689189,  0.31730769,  7.98387097,  1.00609756,  1.51221996])"
      ]
     },
     "execution_count": 54,
     "metadata": {},
     "output_type": "execute_result"
    }
   ],
   "source": [
    "from sklearn.utils import class_weight\n",
    "y_tr_decoded = np.argmax(y_tr, axis=1)\n",
    "print(np.bincount(y_tr_decoded))\n",
    "cw = class_weight.compute_class_weight('balanced',np.unique(y_tr_decoded), y_tr_decoded)\n",
    "cw"
   ]
  },
  {
   "cell_type": "code",
   "execution_count": 55,
   "metadata": {},
   "outputs": [
    {
     "name": "stdout",
     "output_type": "stream",
     "text": [
      "(7425, 728) (7425, 10) <class 'numpy.ndarray'> <class 'numpy.ndarray'>\n",
      "(23400, 728) (23400, 10) <class 'numpy.ndarray'> <class 'numpy.ndarray'>\n"
     ]
    }
   ],
   "source": [
    "from imblearn.over_sampling import SMOTE\n",
    "\n",
    "smt = SMOTE()\n",
    "x_tr_sm, y_tr_sm = smt.fit_resample(x_tr, y_tr)\n",
    "print(np.shape(x_tr), np.shape(y_tr), type(x_tr), type(y_tr))\n",
    "print(np.shape(x_tr_sm), np.shape(y_tr_sm), type(x_tr_sm), type(y_tr_sm))"
   ]
  },
  {
   "cell_type": "code",
   "execution_count": 56,
   "metadata": {},
   "outputs": [
    {
     "name": "stdout",
     "output_type": "stream",
     "text": [
      "[2340 2340 2340 2340 2340 2340 2340 2340 2340 2340]\n"
     ]
    },
    {
     "data": {
      "text/plain": [
       "array([1., 1., 1., 1., 1., 1., 1., 1., 1., 1.])"
      ]
     },
     "execution_count": 56,
     "metadata": {},
     "output_type": "execute_result"
    }
   ],
   "source": [
    "from sklearn.utils import class_weight\n",
    "y_tr_decoded = np.argmax(y_tr_sm, axis=1)\n",
    "print(np.bincount(y_tr_decoded))\n",
    "cw = class_weight.compute_class_weight('balanced',np.unique(y_tr_decoded), y_tr_decoded)\n",
    "cw"
   ]
  },
  {
   "cell_type": "code",
   "execution_count": 57,
   "metadata": {
    "scrolled": true
   },
   "outputs": [
    {
     "name": "stdout",
     "output_type": "stream",
     "text": [
      "Train on 23400 samples, validate on 1135 samples\n",
      "Epoch 1/100\n",
      "23400/23400 [==============================] - 8s 330us/step - loss: 1.6640 - acc: 0.4391 - val_loss: 1.4132 - val_acc: 0.4855\n",
      "Epoch 2/100\n",
      "23400/23400 [==============================] - 5s 228us/step - loss: 1.0114 - acc: 0.6758 - val_loss: 1.1380 - val_acc: 0.6018\n",
      "Epoch 3/100\n",
      "23400/23400 [==============================] - 6s 237us/step - loss: 0.7830 - acc: 0.7459 - val_loss: 1.0650 - val_acc: 0.6317\n",
      "Epoch 4/100\n",
      "23400/23400 [==============================] - 5s 231us/step - loss: 0.6862 - acc: 0.7737 - val_loss: 1.0119 - val_acc: 0.6529\n",
      "Epoch 5/100\n",
      "23400/23400 [==============================] - 5s 229us/step - loss: 0.6306 - acc: 0.7910 - val_loss: 0.9950 - val_acc: 0.6687\n",
      "Epoch 6/100\n",
      "23400/23400 [==============================] - 5s 229us/step - loss: 0.5828 - acc: 0.8059 - val_loss: 1.0078 - val_acc: 0.6731\n",
      "Epoch 7/100\n",
      "23400/23400 [==============================] - 5s 231us/step - loss: 0.5562 - acc: 0.8124 - val_loss: 0.9548 - val_acc: 0.6855\n",
      "Epoch 8/100\n",
      "23400/23400 [==============================] - 5s 228us/step - loss: 0.5255 - acc: 0.8232 - val_loss: 0.9559 - val_acc: 0.6916\n",
      "Epoch 9/100\n",
      "23400/23400 [==============================] - 5s 234us/step - loss: 0.5020 - acc: 0.8300 - val_loss: 0.9905 - val_acc: 0.6899\n",
      "Epoch 10/100\n",
      "23400/23400 [==============================] - 5s 228us/step - loss: 0.4819 - acc: 0.8371 - val_loss: 0.9612 - val_acc: 0.6934\n",
      "Epoch 11/100\n",
      "23400/23400 [==============================] - 5s 231us/step - loss: 0.4664 - acc: 0.8427 - val_loss: 0.9139 - val_acc: 0.7013\n",
      "Epoch 12/100\n",
      "23400/23400 [==============================] - 5s 226us/step - loss: 0.4475 - acc: 0.8476 - val_loss: 0.8975 - val_acc: 0.7057\n",
      "Epoch 13/100\n",
      "23400/23400 [==============================] - 6s 269us/step - loss: 0.4351 - acc: 0.8521 - val_loss: 0.9277 - val_acc: 0.6987\n",
      "Epoch 14/100\n",
      "23400/23400 [==============================] - 6s 267us/step - loss: 0.4263 - acc: 0.8529 - val_loss: 0.9138 - val_acc: 0.6978\n",
      "Epoch 15/100\n",
      "23400/23400 [==============================] - 6s 248us/step - loss: 0.4165 - acc: 0.8575 - val_loss: 0.9143 - val_acc: 0.7013\n",
      "Epoch 16/100\n",
      "23400/23400 [==============================] - 6s 261us/step - loss: 0.4074 - acc: 0.8590 - val_loss: 0.8907 - val_acc: 0.6987\n",
      "Epoch 17/100\n",
      "23400/23400 [==============================] - 6s 247us/step - loss: 0.3964 - acc: 0.8609 - val_loss: 0.9019 - val_acc: 0.7022\n",
      "Epoch 18/100\n",
      "23400/23400 [==============================] - 7s 305us/step - loss: 0.3918 - acc: 0.8659 - val_loss: 0.8920 - val_acc: 0.7075\n",
      "Epoch 19/100\n",
      "23400/23400 [==============================] - 7s 284us/step - loss: 0.3821 - acc: 0.8673 - val_loss: 0.9076 - val_acc: 0.7075\n",
      "Epoch 20/100\n",
      "23400/23400 [==============================] - 6s 239us/step - loss: 0.3688 - acc: 0.8720 - val_loss: 0.8924 - val_acc: 0.7163\n",
      "Epoch 21/100\n",
      "23400/23400 [==============================] - 6s 239us/step - loss: 0.3660 - acc: 0.8750 - val_loss: 0.8753 - val_acc: 0.7198\n",
      "Epoch 22/100\n",
      "23400/23400 [==============================] - 6s 241us/step - loss: 0.3617 - acc: 0.8745 - val_loss: 0.8824 - val_acc: 0.7128\n",
      "Epoch 23/100\n",
      "23400/23400 [==============================] - 6s 236us/step - loss: 0.3501 - acc: 0.8781 - val_loss: 0.8885 - val_acc: 0.7145\n",
      "Epoch 24/100\n",
      "23400/23400 [==============================] - 6s 242us/step - loss: 0.3551 - acc: 0.8766 - val_loss: 0.8610 - val_acc: 0.7189\n",
      "Epoch 25/100\n",
      "23400/23400 [==============================] - 6s 239us/step - loss: 0.3427 - acc: 0.8815 - val_loss: 0.8527 - val_acc: 0.7339\n",
      "Epoch 26/100\n",
      "23400/23400 [==============================] - 6s 236us/step - loss: 0.3426 - acc: 0.8805 - val_loss: 0.8856 - val_acc: 0.7093\n",
      "Epoch 27/100\n",
      "23400/23400 [==============================] - 6s 238us/step - loss: 0.3361 - acc: 0.8826 - val_loss: 0.8907 - val_acc: 0.7207\n",
      "Epoch 28/100\n",
      "23400/23400 [==============================] - 6s 236us/step - loss: 0.3341 - acc: 0.8834 - val_loss: 0.8700 - val_acc: 0.7242\n",
      "Epoch 29/100\n",
      "23400/23400 [==============================] - 5s 235us/step - loss: 0.3267 - acc: 0.8865 - val_loss: 0.8854 - val_acc: 0.7198\n",
      "Epoch 30/100\n",
      "23400/23400 [==============================] - 5s 233us/step - loss: 0.3275 - acc: 0.8848 - val_loss: 0.8671 - val_acc: 0.7313\n",
      "Epoch 31/100\n",
      "23400/23400 [==============================] - 6s 255us/step - loss: 0.3226 - acc: 0.8863 - val_loss: 0.8582 - val_acc: 0.7322\n",
      "Epoch 32/100\n",
      "23400/23400 [==============================] - 8s 361us/step - loss: 0.3251 - acc: 0.8841 - val_loss: 0.8694 - val_acc: 0.7260\n",
      "Epoch 33/100\n",
      "23400/23400 [==============================] - 9s 373us/step - loss: 0.3217 - acc: 0.8874 - val_loss: 0.8739 - val_acc: 0.7242\n",
      "Epoch 34/100\n",
      "23400/23400 [==============================] - 8s 361us/step - loss: 0.3119 - acc: 0.8890 - val_loss: 0.8777 - val_acc: 0.7233\n",
      "Epoch 35/100\n",
      "23400/23400 [==============================] - 6s 254us/step - loss: 0.3044 - acc: 0.8930 - val_loss: 0.9064 - val_acc: 0.7163\n",
      "Epoch 36/100\n",
      "23400/23400 [==============================] - 6s 244us/step - loss: 0.2981 - acc: 0.8953 - val_loss: 0.8835 - val_acc: 0.7269\n",
      "Epoch 37/100\n",
      "23400/23400 [==============================] - 7s 282us/step - loss: 0.3050 - acc: 0.8932 - val_loss: 0.9100 - val_acc: 0.7181\n",
      "Epoch 38/100\n",
      "23400/23400 [==============================] - 7s 301us/step - loss: 0.2979 - acc: 0.8955 - val_loss: 0.8995 - val_acc: 0.7181\n",
      "Epoch 39/100\n",
      "23400/23400 [==============================] - 8s 322us/step - loss: 0.2953 - acc: 0.8952 - val_loss: 0.8962 - val_acc: 0.7163\n",
      "Epoch 40/100\n",
      "23400/23400 [==============================] - 7s 290us/step - loss: 0.2972 - acc: 0.8948 - val_loss: 0.9038 - val_acc: 0.7260\n",
      "Epoch 41/100\n",
      "23400/23400 [==============================] - 7s 289us/step - loss: 0.2924 - acc: 0.8972 - val_loss: 0.9037 - val_acc: 0.7348\n",
      "Epoch 42/100\n",
      "23400/23400 [==============================] - 6s 274us/step - loss: 0.2891 - acc: 0.8993 - val_loss: 0.8846 - val_acc: 0.7260\n",
      "Epoch 43/100\n",
      "23400/23400 [==============================] - 6s 265us/step - loss: 0.2933 - acc: 0.8962 - val_loss: 0.8763 - val_acc: 0.7225\n",
      "Epoch 44/100\n",
      "23400/23400 [==============================] - 6s 254us/step - loss: 0.2868 - acc: 0.8988 - val_loss: 0.8816 - val_acc: 0.7260\n",
      "Epoch 45/100\n",
      "23400/23400 [==============================] - 7s 282us/step - loss: 0.2855 - acc: 0.8979 - val_loss: 0.9005 - val_acc: 0.7084\n",
      "Epoch 46/100\n",
      "23400/23400 [==============================] - 7s 292us/step - loss: 0.2827 - acc: 0.8993 - val_loss: 0.8674 - val_acc: 0.7383\n",
      "Epoch 47/100\n",
      "23400/23400 [==============================] - 9s 372us/step - loss: 0.2819 - acc: 0.8989 - val_loss: 0.8926 - val_acc: 0.7278\n",
      "Epoch 48/100\n",
      "23400/23400 [==============================] - 8s 344us/step - loss: 0.2785 - acc: 0.9008 - val_loss: 0.8746 - val_acc: 0.7322\n",
      "Epoch 49/100\n",
      "23400/23400 [==============================] - 8s 332us/step - loss: 0.2706 - acc: 0.9070 - val_loss: 0.8773 - val_acc: 0.7278\n",
      "Epoch 50/100\n",
      "23400/23400 [==============================] - 9s 377us/step - loss: 0.2817 - acc: 0.8985 - val_loss: 0.8630 - val_acc: 0.7313\n",
      "Epoch 51/100\n",
      "23400/23400 [==============================] - 7s 294us/step - loss: 0.2731 - acc: 0.9041 - val_loss: 0.8804 - val_acc: 0.7330\n",
      "Epoch 52/100\n",
      "23400/23400 [==============================] - 7s 294us/step - loss: 0.2646 - acc: 0.9062 - val_loss: 0.9009 - val_acc: 0.7278\n",
      "Epoch 53/100\n",
      "23400/23400 [==============================] - 6s 242us/step - loss: 0.2723 - acc: 0.9041 - val_loss: 0.8641 - val_acc: 0.7366\n",
      "Epoch 54/100\n",
      "23400/23400 [==============================] - 6s 240us/step - loss: 0.2688 - acc: 0.9044 - val_loss: 0.8851 - val_acc: 0.7286\n",
      "Epoch 55/100\n",
      "23400/23400 [==============================] - 5s 228us/step - loss: 0.2625 - acc: 0.9094 - val_loss: 0.8893 - val_acc: 0.7330\n",
      "Epoch 56/100\n",
      "23400/23400 [==============================] - 5s 233us/step - loss: 0.2627 - acc: 0.9079 - val_loss: 0.8815 - val_acc: 0.7330\n",
      "Epoch 57/100\n",
      "23400/23400 [==============================] - 5s 233us/step - loss: 0.2703 - acc: 0.9051 - val_loss: 0.8768 - val_acc: 0.7295\n",
      "Epoch 58/100\n",
      "23400/23400 [==============================] - 6s 261us/step - loss: 0.2676 - acc: 0.9050 - val_loss: 0.8967 - val_acc: 0.7225\n",
      "Epoch 59/100\n"
     ]
    },
    {
     "name": "stdout",
     "output_type": "stream",
     "text": [
      "23400/23400 [==============================] - 6s 260us/step - loss: 0.2589 - acc: 0.9053 - val_loss: 0.9063 - val_acc: 0.7330\n",
      "Epoch 60/100\n",
      "23400/23400 [==============================] - 6s 267us/step - loss: 0.2567 - acc: 0.9079 - val_loss: 0.8928 - val_acc: 0.7313\n",
      "Epoch 61/100\n",
      "23400/23400 [==============================] - 5s 232us/step - loss: 0.2512 - acc: 0.9104 - val_loss: 0.8916 - val_acc: 0.7383\n",
      "Epoch 62/100\n",
      "23400/23400 [==============================] - 5s 226us/step - loss: 0.2565 - acc: 0.9088 - val_loss: 0.9048 - val_acc: 0.7330\n",
      "Epoch 63/100\n",
      "23400/23400 [==============================] - 5s 230us/step - loss: 0.2524 - acc: 0.9100 - val_loss: 0.9054 - val_acc: 0.7286\n",
      "Epoch 64/100\n",
      "23400/23400 [==============================] - 5s 230us/step - loss: 0.2570 - acc: 0.9080 - val_loss: 0.9312 - val_acc: 0.7181\n",
      "Epoch 65/100\n",
      "23400/23400 [==============================] - 5s 229us/step - loss: 0.2504 - acc: 0.9124 - val_loss: 0.9023 - val_acc: 0.7348\n",
      "Epoch 66/100\n",
      "23400/23400 [==============================] - 6s 241us/step - loss: 0.2491 - acc: 0.9121 - val_loss: 0.8957 - val_acc: 0.7278\n",
      "Epoch 67/100\n",
      "23400/23400 [==============================] - 7s 284us/step - loss: 0.2490 - acc: 0.9129 - val_loss: 0.9222 - val_acc: 0.7163\n",
      "Epoch 68/100\n",
      "23400/23400 [==============================] - 7s 303us/step - loss: 0.2474 - acc: 0.9097 - val_loss: 0.9020 - val_acc: 0.7383\n",
      "Epoch 69/100\n",
      "23400/23400 [==============================] - 7s 318us/step - loss: 0.2473 - acc: 0.9114 - val_loss: 0.9044 - val_acc: 0.7366\n",
      "Epoch 70/100\n",
      "23400/23400 [==============================] - 8s 363us/step - loss: 0.2442 - acc: 0.9129 - val_loss: 0.9212 - val_acc: 0.7278\n",
      "Epoch 71/100\n",
      "23400/23400 [==============================] - 7s 315us/step - loss: 0.2421 - acc: 0.9125 - val_loss: 0.9114 - val_acc: 0.7260\n",
      "Epoch 72/100\n",
      "23400/23400 [==============================] - 7s 315us/step - loss: 0.2450 - acc: 0.9128 - val_loss: 0.9103 - val_acc: 0.7313\n",
      "Epoch 73/100\n",
      "23400/23400 [==============================] - 7s 295us/step - loss: 0.2401 - acc: 0.9137 - val_loss: 0.9057 - val_acc: 0.7357\n",
      "Epoch 74/100\n",
      "23400/23400 [==============================] - 8s 324us/step - loss: 0.2376 - acc: 0.9139 - val_loss: 0.9096 - val_acc: 0.7304\n",
      "Epoch 75/100\n",
      "23400/23400 [==============================] - 8s 329us/step - loss: 0.2405 - acc: 0.9140 - val_loss: 0.8898 - val_acc: 0.7269\n",
      "Epoch 76/100\n",
      "23400/23400 [==============================] - 8s 348us/step - loss: 0.2304 - acc: 0.9184 - val_loss: 0.8808 - val_acc: 0.7427\n",
      "Epoch 77/100\n",
      "23400/23400 [==============================] - 8s 352us/step - loss: 0.2483 - acc: 0.9114 - val_loss: 0.9165 - val_acc: 0.7304\n",
      "Epoch 78/100\n",
      "23400/23400 [==============================] - 6s 271us/step - loss: 0.2380 - acc: 0.9153 - val_loss: 0.9356 - val_acc: 0.7242\n",
      "Epoch 79/100\n",
      "23400/23400 [==============================] - 6s 265us/step - loss: 0.2300 - acc: 0.9197 - val_loss: 0.9090 - val_acc: 0.7348\n",
      "Epoch 80/100\n",
      "23400/23400 [==============================] - 6s 257us/step - loss: 0.2399 - acc: 0.9148 - val_loss: 0.9184 - val_acc: 0.7207\n",
      "Epoch 81/100\n",
      "23400/23400 [==============================] - 6s 252us/step - loss: 0.2352 - acc: 0.9170 - val_loss: 0.9142 - val_acc: 0.7278\n",
      "Epoch 82/100\n",
      "23400/23400 [==============================] - 6s 242us/step - loss: 0.2396 - acc: 0.9164 - val_loss: 0.9247 - val_acc: 0.7330\n",
      "Epoch 83/100\n",
      "23400/23400 [==============================] - 5s 228us/step - loss: 0.2313 - acc: 0.9169 - val_loss: 0.9099 - val_acc: 0.7286\n",
      "Epoch 84/100\n",
      "23400/23400 [==============================] - 5s 215us/step - loss: 0.2295 - acc: 0.9168 - val_loss: 0.9244 - val_acc: 0.7163\n",
      "Epoch 85/100\n",
      "23400/23400 [==============================] - 5s 209us/step - loss: 0.2278 - acc: 0.9206 - val_loss: 0.9315 - val_acc: 0.7269\n",
      "Epoch 86/100\n",
      "23400/23400 [==============================] - 5s 210us/step - loss: 0.2240 - acc: 0.9205 - val_loss: 0.9075 - val_acc: 0.7278\n",
      "Epoch 87/100\n",
      "23400/23400 [==============================] - 6s 242us/step - loss: 0.2278 - acc: 0.9185 - val_loss: 0.9146 - val_acc: 0.7286\n",
      "Epoch 88/100\n",
      "23400/23400 [==============================] - 7s 303us/step - loss: 0.2226 - acc: 0.9180 - val_loss: 0.8889 - val_acc: 0.7463\n",
      "Epoch 89/100\n",
      "23400/23400 [==============================] - 9s 393us/step - loss: 0.2254 - acc: 0.9196 - val_loss: 0.8917 - val_acc: 0.7374\n",
      "Epoch 90/100\n",
      "23400/23400 [==============================] - 9s 368us/step - loss: 0.2243 - acc: 0.9197 - val_loss: 0.9064 - val_acc: 0.7366\n",
      "Epoch 91/100\n",
      "23400/23400 [==============================] - 8s 334us/step - loss: 0.2239 - acc: 0.9191 - val_loss: 0.8969 - val_acc: 0.7322\n",
      "Epoch 92/100\n",
      "23400/23400 [==============================] - 6s 273us/step - loss: 0.2208 - acc: 0.9214 - val_loss: 0.8846 - val_acc: 0.7401\n",
      "Epoch 93/100\n",
      "23400/23400 [==============================] - 10s 428us/step - loss: 0.2229 - acc: 0.9200 - val_loss: 0.8812 - val_acc: 0.7383\n",
      "Epoch 94/100\n",
      "23400/23400 [==============================] - 11s 451us/step - loss: 0.2210 - acc: 0.9229 - val_loss: 0.8954 - val_acc: 0.7366\n",
      "Epoch 95/100\n",
      "23400/23400 [==============================] - 10s 406us/step - loss: 0.2180 - acc: 0.9221 - val_loss: 0.9056 - val_acc: 0.7322\n",
      "Epoch 96/100\n",
      "23400/23400 [==============================] - 11s 449us/step - loss: 0.2274 - acc: 0.9211 - val_loss: 0.8800 - val_acc: 0.7392\n",
      "Epoch 97/100\n",
      "23400/23400 [==============================] - 10s 434us/step - loss: 0.2165 - acc: 0.9218 - val_loss: 0.8862 - val_acc: 0.7454\n",
      "Epoch 98/100\n",
      "23400/23400 [==============================] - 10s 417us/step - loss: 0.2151 - acc: 0.9236 - val_loss: 0.8905 - val_acc: 0.7278\n",
      "Epoch 99/100\n",
      "23400/23400 [==============================] - 10s 414us/step - loss: 0.2148 - acc: 0.9221 - val_loss: 0.9174 - val_acc: 0.7357\n",
      "Epoch 100/100\n",
      "23400/23400 [==============================] - 9s 391us/step - loss: 0.2157 - acc: 0.9222 - val_loss: 0.9161 - val_acc: 0.7374\n"
     ]
    },
    {
     "data": {
      "text/plain": [
       "<keras.callbacks.History at 0x127573630>"
      ]
     },
     "execution_count": 57,
     "metadata": {},
     "output_type": "execute_result"
    }
   ],
   "source": [
    "model.fit(x_tr_sm, y_tr_sm,\n",
    "          batch_size=batch_size,\n",
    "          epochs=100,\n",
    "          verbose=1,\n",
    "          class_weight=cw,\n",
    "          shuffle=True,\n",
    "          validation_data=(x_val, y_val))"
   ]
  },
  {
   "cell_type": "code",
   "execution_count": 58,
   "metadata": {},
   "outputs": [],
   "source": [
    "def calcMetrics(aX, aY):\n",
    "    from sklearn.metrics import classification_report\n",
    "    y_pred = model.predict(aX, batch_size=batch_size, verbose=1)\n",
    "    y_pred_bool = np.argmax(y_pred, axis=1)\n",
    "    y_tst_bool = np.argmax(aY , axis=1)\n",
    "    y_pred_label = event_encoder.inverse_transform(y_pred_bool)\n",
    "    y_tst_label = event_encoder.inverse_transform(y_tst_bool)\n",
    "    print(classification_report(y_tst_label, y_pred_label))\n"
   ]
  },
  {
   "cell_type": "code",
   "execution_count": 59,
   "metadata": {},
   "outputs": [
    {
     "name": "stdout",
     "output_type": "stream",
     "text": [
      "\n",
      "Performance metrics on training data:\n",
      "\n",
      "7425/7425 [==============================] - 1s 183us/step\n",
      "                     precision    recall  f1-score   support\n",
      "\n",
      "            Binding       0.98      0.98      0.98       681\n",
      "    Gene_expression       0.94      0.92      0.93      1773\n",
      "       Localization       0.91      0.96      0.94       223\n",
      "Negative_regulation       0.90      0.91      0.91       901\n",
      "               None       0.86      1.00      0.92        37\n",
      "    Phosphorylation       0.97      0.99      0.98       148\n",
      "Positive_regulation       0.95      0.91      0.93      2340\n",
      " Protein_catabolism       0.96      1.00      0.98        93\n",
      "         Regulation       0.82      0.96      0.88       738\n",
      "      Transcription       0.87      0.84      0.86       491\n",
      "\n",
      "        avg / total       0.92      0.92      0.92      7425\n",
      "\n"
     ]
    },
    {
     "name": "stderr",
     "output_type": "stream",
     "text": [
      "/Users/nishu/anaconda3/lib/python3.6/site-packages/sklearn/preprocessing/label.py:151: DeprecationWarning: The truth value of an empty array is ambiguous. Returning False, but in future this will result in an error. Use `array.size > 0` to check that an array is not empty.\n",
      "  if diff:\n",
      "/Users/nishu/anaconda3/lib/python3.6/site-packages/sklearn/preprocessing/label.py:151: DeprecationWarning: The truth value of an empty array is ambiguous. Returning False, but in future this will result in an error. Use `array.size > 0` to check that an array is not empty.\n",
      "  if diff:\n"
     ]
    }
   ],
   "source": [
    "#Performance metrics on training data\n",
    "print('\\nPerformance metrics on training data:\\n')\n",
    "calcMetrics(x_tr, y_tr)"
   ]
  },
  {
   "cell_type": "code",
   "execution_count": 60,
   "metadata": {},
   "outputs": [
    {
     "name": "stdout",
     "output_type": "stream",
     "text": [
      "\n",
      "Performance metrics on testing data:\n",
      "\n",
      "1135/1135 [==============================] - 0s 91us/step\n"
     ]
    },
    {
     "name": "stderr",
     "output_type": "stream",
     "text": [
      "/Users/nishu/anaconda3/lib/python3.6/site-packages/sklearn/preprocessing/label.py:151: DeprecationWarning: The truth value of an empty array is ambiguous. Returning False, but in future this will result in an error. Use `array.size > 0` to check that an array is not empty.\n",
      "  if diff:\n",
      "/Users/nishu/anaconda3/lib/python3.6/site-packages/sklearn/preprocessing/label.py:151: DeprecationWarning: The truth value of an empty array is ambiguous. Returning False, but in future this will result in an error. Use `array.size > 0` to check that an array is not empty.\n",
      "  if diff:\n"
     ]
    },
    {
     "name": "stdout",
     "output_type": "stream",
     "text": [
      "                     precision    recall  f1-score   support\n",
      "\n",
      "            Binding       0.84      0.88      0.86       128\n",
      "    Gene_expression       0.92      0.78      0.84       278\n",
      "       Localization       0.47      0.67      0.55        21\n",
      "Negative_regulation       0.74      0.60      0.66       163\n",
      "               None       0.83      1.00      0.91         5\n",
      "    Phosphorylation       1.00      0.94      0.97        36\n",
      "Positive_regulation       0.72      0.82      0.77       341\n",
      " Protein_catabolism       0.75      1.00      0.86         9\n",
      "         Regulation       0.56      0.64      0.60        97\n",
      "      Transcription       0.79      0.81      0.80        57\n",
      "\n",
      "        avg / total       0.78      0.77      0.77      1135\n",
      "\n"
     ]
    }
   ],
   "source": [
    "#Performance metrics on testing data\n",
    "print('\\nPerformance metrics on testing data:\\n')\n",
    "calcMetrics(x_tst, y_tst)"
   ]
  },
  {
   "cell_type": "code",
   "execution_count": null,
   "metadata": {},
   "outputs": [],
   "source": []
  },
  {
   "cell_type": "code",
   "execution_count": 61,
   "metadata": {},
   "outputs": [
    {
     "name": "stdout",
     "output_type": "stream",
     "text": [
      "['loss', 'acc']\n"
     ]
    }
   ],
   "source": [
    "print(model.metrics_names)"
   ]
  },
  {
   "cell_type": "code",
   "execution_count": null,
   "metadata": {},
   "outputs": [],
   "source": []
  }
 ],
 "metadata": {
  "kernelspec": {
   "display_name": "Python 3",
   "language": "python",
   "name": "python3"
  },
  "language_info": {
   "codemirror_mode": {
    "name": "ipython",
    "version": 3
   },
   "file_extension": ".py",
   "mimetype": "text/x-python",
   "name": "python",
   "nbconvert_exporter": "python",
   "pygments_lexer": "ipython3",
   "version": "3.6.4"
  }
 },
 "nbformat": 4,
 "nbformat_minor": 2
}
